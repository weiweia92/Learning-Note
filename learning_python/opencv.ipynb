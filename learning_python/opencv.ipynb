{
 "cells": [
  {
   "cell_type": "code",
   "execution_count": 1,
   "metadata": {},
   "outputs": [],
   "source": [
    "import numpy as np\n",
    "import cv2\n",
    "import matplotlib.pyplot as plt"
   ]
  },
  {
   "cell_type": "code",
   "execution_count": 2,
   "metadata": {},
   "outputs": [],
   "source": [
    "img = np.array([\n",
    "    [[255, 0, 0], [0, 255, 0], [0, 0, 255]],\n",
    "    [[255, 255, 0], [255, 0, 255], [0, 255, 255]],\n",
    "    [[255, 255, 255], [128, 128, 128], [0, 0, 0]],\n",
    "], dtype=np.uint8)"
   ]
  },
  {
   "cell_type": "code",
   "execution_count": 3,
   "metadata": {},
   "outputs": [],
   "source": [
    "plt.imsave('img_pyplot.jpg', img) #将矩阵变成图片存储下来"
   ]
  },
  {
   "cell_type": "code",
   "execution_count": 4,
   "metadata": {},
   "outputs": [
    {
     "data": {
      "text/plain": [
       "True"
      ]
     },
     "execution_count": 4,
     "metadata": {},
     "output_type": "execute_result"
    }
   ],
   "source": [
    "cv2.imwrite('img_cv2.jpg', img)　#将矩阵变成图片存储下来"
   ]
  },
  {
   "cell_type": "markdown",
   "metadata": {},
   "source": [
    "## 基本图像处理\n",
    "\n",
    "### 存取图像　　\n",
    "读图像用`cv2.imread()`，可以按照不同模式读取，一般最常用到的是读取单通道灰度图，或者直接默认读取多通道　　\n",
    "\n",
    "存图像用`cv2.imwrite()`，注意存的时候是没有单通道这一说的，根据保存文件名的后缀和当前的array维度，OpenCV自动判断存的通道，另外压缩格式还可以指定存储质量"
   ]
  },
  {
   "cell_type": "code",
   "execution_count": 5,
   "metadata": {},
   "outputs": [
    {
     "name": "stdout",
     "output_type": "stream",
     "text": [
      "(660, 1024, 3)\n"
     ]
    }
   ],
   "source": [
    "color_img = cv2.imread('1.jpg')\n",
    "print(color_img.shape)"
   ]
  },
  {
   "cell_type": "code",
   "execution_count": 7,
   "metadata": {},
   "outputs": [
    {
     "name": "stdout",
     "output_type": "stream",
     "text": [
      "(660, 1024)\n"
     ]
    }
   ],
   "source": [
    "gray_img = cv2.imread('1.jpg', cv2.IMREAD_GRAYSCALE) # 直接读取单通道\n",
    "print(gray_img.shape)"
   ]
  },
  {
   "cell_type": "code",
   "execution_count": 8,
   "metadata": {},
   "outputs": [
    {
     "name": "stdout",
     "output_type": "stream",
     "text": [
      "(660, 1024, 3)\n"
     ]
    }
   ],
   "source": [
    "# 把单通道图片保存后，再读取，仍然是3通道，相当于把单通道值复制到3个通道保存\n",
    "cv2.imwrite('test_grayscale.jpg', gray_img)\n",
    "reload_grayscale = cv2.imread('test_grayscale.jpg')\n",
    "print(reload_grayscale.shape)"
   ]
  },
  {
   "cell_type": "code",
   "execution_count": 10,
   "metadata": {},
   "outputs": [
    {
     "data": {
      "text/plain": [
       "True"
      ]
     },
     "execution_count": 10,
     "metadata": {},
     "output_type": "execute_result"
    }
   ],
   "source": [
    "# cv2.IMWRITE_JPEG_QUALITY指定jpg质量，范围0到100，默认95，越高画质越好，文件越大\n",
    "cv2.imwrite('test_imwrite.jpg', color_img, (cv2.IMWRITE_JPEG_QUALITY, 10))\n",
    "\n",
    "# cv2.IMWRITE_PNG_COMPRESSION指定png质量，范围0到9，默认3，越高文件越小，画质越差\n",
    "cv2.imwrite('test_imwrite.png', color_img, (cv2.IMWRITE_PNG_COMPRESSION, 5))"
   ]
  },
  {
   "cell_type": "markdown",
   "metadata": {},
   "source": [
    "### 缩放，裁剪和补边\n",
    "\n",
    "缩放通过`cv2.resize()`实现  "
   ]
  },
  {
   "cell_type": "code",
   "execution_count": 21,
   "metadata": {},
   "outputs": [],
   "source": [
    "img = cv2.imread('1.jpg')"
   ]
  },
  {
   "cell_type": "code",
   "execution_count": 22,
   "metadata": {},
   "outputs": [
    {
     "data": {
      "text/plain": [
       "array([[[152, 109, 120],\n",
       "        [152, 109, 120],\n",
       "        [152, 109, 120],\n",
       "        ...,\n",
       "        [175, 111,  81],\n",
       "        [175, 111,  81],\n",
       "        [175, 111,  81]],\n",
       "\n",
       "       [[152, 109, 120],\n",
       "        [152, 109, 120],\n",
       "        [152, 109, 120],\n",
       "        ...,\n",
       "        [176, 112,  82],\n",
       "        [176, 112,  82],\n",
       "        [176, 112,  82]],\n",
       "\n",
       "       [[151, 109, 120],\n",
       "        [151, 109, 120],\n",
       "        [151, 109, 120],\n",
       "        ...,\n",
       "        [178, 113,  85],\n",
       "        [178, 113,  85],\n",
       "        [178, 113,  85]],\n",
       "\n",
       "       ...,\n",
       "\n",
       "       [[ 38,  31,  28],\n",
       "        [ 36,  29,  26],\n",
       "        [ 37,  25,  23],\n",
       "        ...,\n",
       "        [ 63,  55,  72],\n",
       "        [ 74,  64,  81],\n",
       "        [ 74,  62,  80]],\n",
       "\n",
       "       [[ 50,  43,  40],\n",
       "        [ 46,  39,  36],\n",
       "        [ 43,  31,  29],\n",
       "        ...,\n",
       "        [ 56,  48,  65],\n",
       "        [ 68,  58,  75],\n",
       "        [ 69,  57,  75]],\n",
       "\n",
       "       [[ 71,  64,  61],\n",
       "        [ 65,  58,  55],\n",
       "        [ 57,  45,  43],\n",
       "        ...,\n",
       "        [ 55,  47,  64],\n",
       "        [ 69,  59,  76],\n",
       "        [ 71,  59,  77]]], dtype=uint8)"
      ]
     },
     "execution_count": 22,
     "metadata": {},
     "output_type": "execute_result"
    }
   ],
   "source": [
    "img"
   ]
  },
  {
   "cell_type": "code",
   "execution_count": 23,
   "metadata": {},
   "outputs": [],
   "source": [
    "cv2.imshow('',img)"
   ]
  },
  {
   "cell_type": "code",
   "execution_count": 18,
   "metadata": {},
   "outputs": [],
   "source": [
    "img_200x200 = cv2.resize(img, (200, 200))"
   ]
  },
  {
   "cell_type": "code",
   "execution_count": 19,
   "metadata": {},
   "outputs": [
    {
     "data": {
      "text/plain": [
       "array([[[152, 109, 120],\n",
       "        [152, 109, 120],\n",
       "        [150, 107, 118],\n",
       "        ...,\n",
       "        [176, 112,  82],\n",
       "        [176, 112,  82],\n",
       "        [176, 112,  82]],\n",
       "\n",
       "       [[151, 108, 121],\n",
       "        [151, 108, 121],\n",
       "        [150, 107, 120],\n",
       "        ...,\n",
       "        [177, 112,  84],\n",
       "        [177, 112,  84],\n",
       "        [176, 111,  83]],\n",
       "\n",
       "       [[149, 108, 123],\n",
       "        [149, 108, 123],\n",
       "        [149, 108, 122],\n",
       "        ...,\n",
       "        [179, 113,  88],\n",
       "        [180, 114,  89],\n",
       "        [178, 112,  87]],\n",
       "\n",
       "       ...,\n",
       "\n",
       "       [[114,  96,  95],\n",
       "        [ 86,  68,  67],\n",
       "        [ 48,  30,  29],\n",
       "        ...,\n",
       "        [ 60,  55,  89],\n",
       "        [106, 130, 174],\n",
       "        [ 96, 148, 202]],\n",
       "\n",
       "       [[ 39,  25,  23],\n",
       "        [ 69,  54,  52],\n",
       "        [103,  88,  86],\n",
       "        ...,\n",
       "        [ 61,  53,  53],\n",
       "        [ 48,  42,  68],\n",
       "        [ 51,  66,  90]],\n",
       "\n",
       "       [[ 42,  30,  28],\n",
       "        [107,  87,  86],\n",
       "        [ 60,  42,  41],\n",
       "        ...,\n",
       "        [ 70,  55,  68],\n",
       "        [ 66,  51,  67],\n",
       "        [ 57,  49,  66]]], dtype=uint8)"
      ]
     },
     "execution_count": 19,
     "metadata": {},
     "output_type": "execute_result"
    }
   ],
   "source": [
    "img_200x200"
   ]
  },
  {
   "cell_type": "code",
   "execution_count": 20,
   "metadata": {},
   "outputs": [],
   "source": [
    "cv2.imshow('image',img)"
   ]
  },
  {
   "cell_type": "code",
   "execution_count": null,
   "metadata": {},
   "outputs": [],
   "source": []
  }
 ],
 "metadata": {
  "kernelspec": {
   "display_name": "Python 3",
   "language": "python",
   "name": "python3"
  },
  "language_info": {
   "codemirror_mode": {
    "name": "ipython",
    "version": 3
   },
   "file_extension": ".py",
   "mimetype": "text/x-python",
   "name": "python",
   "nbconvert_exporter": "python",
   "pygments_lexer": "ipython3",
   "version": "3.7.6"
  }
 },
 "nbformat": 4,
 "nbformat_minor": 4
}
